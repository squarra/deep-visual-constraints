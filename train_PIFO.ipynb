{
 "cells": [
  {
   "cell_type": "code",
   "execution_count": null,
   "id": "19d5dca7-ff5c-4665-bb28-e5c5fc45a570",
   "metadata": {},
   "outputs": [],
   "source": [
    "# import os\n",
    "# os.environ[\"CUDA_DEVICE_ORDER\"] = \"PCI_BUS_ID\"\n",
    "# os.environ[\"CUDA_VISIBLE_DEVICES\"] = \"3\"\n",
    "\n",
    "import torch\n",
    "from tqdm import tqdm\n",
    "\n",
    "from dvc.frame import Frame\n",
    "from dvc.training import Trainer\n",
    "\n",
    "device = \"cuda\" if torch.cuda.is_available() else \"cpu\""
   ]
  },
  {
   "cell_type": "code",
   "execution_count": null,
   "id": "82edcc37-8d1f-4f33-9d08-450072794851",
   "metadata": {},
   "outputs": [],
   "source": [
    "dx = torch.linspace(-1.0, 1.0, 3)\n",
    "grid_x, grid_y, grid_z = torch.meshgrid(dx, dx, dx)\n",
    "gripper_grid_pts = torch.stack([0.05 * grid_x.flatten(), 0.02 * grid_y.flatten(), 0.05 * grid_z.flatten()], dim=1)\n",
    "\n",
    "hook_grid_pts = torch.stack([torch.zeros(5), torch.zeros(5), torch.linspace(-0.1, 0.1, 5)], dim=1)\n",
    "\n",
    "C = {\n",
    "    \"SEED\": 1,\n",
    "    \"DATA_FILENAME\": \"data/train_batch.hdf5\",\n",
    "    \"TEST_DATA_FILENAME\": \"data/val_batch.hdf5\",\n",
    "    \"DATA_ON_GPU\": device == \"cuda\",\n",
    "    \"SDF_HEAD_HIDDEN\": [128],\n",
    "    \"NUM_POINTS\": 300,\n",
    "    \"SDF_SCALE\": 10.0,\n",
    "    \"GRASP_LOSS_WEIGHT\": 1.0,\n",
    "    \"GRASP_HEAD_HIDDEN\": [256, 128],\n",
    "    \"GRIPPER_POINTS\": gripper_grid_pts,\n",
    "    \"NUM_GRASPS\": 100,\n",
    "    \"GRASP_COST_SCALE\": torch.Tensor([10, 10, 10, 1, 1, 1]),\n",
    "    \"GRASP_DRAW_POINTS\": 0.01 * torch.eye(3),\n",
    "    \"HANG_LOSS_WEIGHT\": 1.0,\n",
    "    \"HANG_HEAD_HIDDEN\": [256, 128],\n",
    "    \"HOOK_POINTS\": hook_grid_pts,\n",
    "    \"NUM_HANGS\": 100,\n",
    "    \"HANG_COST_SCALE\": torch.Tensor([10, 10, 10, 1, 1, 0]),\n",
    "    \"HANG_DRAW_POINTS\": 0.1 * torch.Tensor([[0, 0, 1], [0, 0, -1]]),\n",
    "    \"TEST_INTERVAL\": 10,\n",
    "    \"SAVE_INTERVAL\": 100,\n",
    "    \"EXP_NAME\": \"PIFOtest\",\n",
    "}\n",
    "\n",
    "torch.manual_seed(C[\"SEED\"])\n",
    "\n",
    "# Model\n",
    "obj = Frame()\n",
    "obj.build_backbone(**C)\n",
    "obj.build_sdf_head(C[\"SDF_HEAD_HIDDEN\"])\n",
    "obj.build_keypoint_head(\"grasp\", C[\"GRASP_HEAD_HIDDEN\"], C[\"GRIPPER_POINTS\"])\n",
    "obj.build_keypoint_head(\"hang\", C[\"HANG_HEAD_HIDDEN\"], C[\"HOOK_POINTS\"])\n",
    "obj.to(device).train()\n",
    "print(\"======================== model built ========================\")\n",
    "\n",
    "trainer = Trainer(obj, C)\n",
    "trainer.trainset.show_data(0)\n",
    "min_test = 100000"
   ]
  },
  {
   "cell_type": "code",
   "execution_count": null,
   "id": "26ff2fad-2f5c-4502-b9c3-9dbbe311db97",
   "metadata": {},
   "outputs": [],
   "source": [
    "for epoch in tqdm(range(1, trainer.C[\"NUM_EPOCHS\"] + 1)):\n",
    "    trainer.train(epoch)\n",
    "    if epoch % C[\"TEST_INTERVAL\"] == 0:\n",
    "        test_loss = trainer.test(epoch)\n",
    "        if test_loss < min_test and epoch % C[\"SAVE_INTERVAL\"] == 0:\n",
    "            #  trainer.save_state('network/'+C['EXP_NAME']+'_best.pth.tar')\n",
    "            min_test = test_loss\n",
    "#     if epoch % C['SAVE_INTERVAL'] == 0:\n",
    "#         trainer.save_state('network/'+C['EXP_NAME']+'.pth.tar')"
   ]
  }
 ],
 "metadata": {
  "kernelspec": {
   "display_name": "dvc",
   "language": "python",
   "name": "python3"
  },
  "language_info": {
   "codemirror_mode": {
    "name": "ipython",
    "version": 3
   },
   "file_extension": ".py",
   "mimetype": "text/x-python",
   "name": "python",
   "nbconvert_exporter": "python",
   "pygments_lexer": "ipython3",
   "version": "3.11.13"
  }
 },
 "nbformat": 4,
 "nbformat_minor": 5
}
