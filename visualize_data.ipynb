{
 "cells": [
  {
   "cell_type": "code",
   "execution_count": null,
   "id": "7711b00c",
   "metadata": {},
   "outputs": [],
   "source": [
    "import h5py\n",
    "import torch\n",
    "\n",
    "from dcv.utils import view_scene_grasp"
   ]
  },
  {
   "cell_type": "code",
   "execution_count": null,
   "id": "0fed0e33",
   "metadata": {},
   "outputs": [],
   "source": [
    "data_hdf5 = h5py.File(\"data/train_batch.hdf5\", mode=\"r\")\n",
    "filename = data_hdf5[\"object/mesh_filename\"][:]\n",
    "grasp_pose = data_hdf5[\"grasp/pose\"][:]  # (len, N, 7)\n",
    "hang_pose = data_hdf5[\"hang/pose\"][:]  # (len, N, 7)"
   ]
  },
  {
   "cell_type": "code",
   "execution_count": null,
   "id": "b6d9d203",
   "metadata": {},
   "outputs": [],
   "source": [
    "for i in range(grasp_pose.shape[0]):\n",
    "    a = view_scene_grasp(torch.Tensor(grasp_pose[i, ::10]), \"data/meshes_coll/\" + filename[i].decode())\n",
    "    #     a = view_scene_hang(torch.Tensor(hang_pose[i,::10]), 'data/meshes_coll/'+filename[i].decode())\n",
    "    a.show(viewer=\"gl\")"
   ]
  }
 ],
 "metadata": {
  "kernelspec": {
   "display_name": "deep-visual-constraints",
   "language": "python",
   "name": "python3"
  },
  "language_info": {
   "codemirror_mode": {
    "name": "ipython",
    "version": 3
   },
   "file_extension": ".py",
   "mimetype": "text/x-python",
   "name": "python",
   "nbconvert_exporter": "python",
   "pygments_lexer": "ipython3",
   "version": "3.11.13"
  }
 },
 "nbformat": 4,
 "nbformat_minor": 5
}
