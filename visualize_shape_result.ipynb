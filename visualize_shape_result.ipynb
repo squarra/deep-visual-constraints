{
 "cells": [
  {
   "cell_type": "code",
   "execution_count": null,
   "id": "4140831e",
   "metadata": {},
   "outputs": [],
   "source": [
    "import matplotlib.pyplot as plt\n",
    "import torch\n",
    "import trimesh\n",
    "\n",
    "from dcv.dataset import PIFODataset, RandomImageWarper\n",
    "from dcv.feature import SDF_Feature\n",
    "from dcv.frame import Frame\n",
    "from dcv.utils import to_device"
   ]
  },
  {
   "cell_type": "code",
   "execution_count": null,
   "id": "d64e20a3",
   "metadata": {},
   "outputs": [],
   "source": [
    "device = \"cuda\" if torch.cuda.is_available() else \"cpu\"\n",
    "\n",
    "# exp_name = 'noPixelAligned_best'\n",
    "exp_name = \"PIFO_best\"\n",
    "state = torch.load(\"network/\" + exp_name + \".pth.tar\", map_location=torch.device(\"cpu\") if device == \"cpu\" else None)\n",
    "C = state[\"config\"]\n",
    "\n",
    "trainset = PIFODataset(\n",
    "    C[\"DATA_FILENAME\"],\n",
    "    num_views=C[\"NUM_VIEWS\"],\n",
    "    num_points=C[\"NUM_POINTS\"],\n",
    "    num_grasps=C[\"NUM_GRASPS\"],\n",
    "    num_hangs=C[\"NUM_HANGS\"],\n",
    "    grasp_draw_points=C[\"GRASP_DRAW_POINTS\"],\n",
    "    hang_draw_points=C[\"HANG_DRAW_POINTS\"],\n",
    "    random_erase=False,\n",
    "    on_gpu_memory=(device == \"cuda\"),\n",
    ")\n",
    "# trainset.show_data(0)\n",
    "testset = PIFODataset(\n",
    "    \"data/test_batch.hdf5\",\n",
    "    num_views=C[\"NUM_VIEWS\"],\n",
    "    num_points=C[\"NUM_POINTS\"],\n",
    "    num_grasps=C[\"NUM_GRASPS\"],\n",
    "    num_hangs=C[\"NUM_HANGS\"],\n",
    "    grasp_draw_points=C[\"GRASP_DRAW_POINTS\"],\n",
    "    hang_draw_points=C[\"HANG_DRAW_POINTS\"],\n",
    "    random_erase=False,\n",
    "    on_gpu_memory=(device == \"cuda\"),\n",
    ")\n",
    "warper = RandomImageWarper(img_res=C[\"IMG_RES\"])\n",
    "\n",
    "# Model\n",
    "obj = Frame()\n",
    "obj.build_backbone(pretrained=True, **C)\n",
    "obj.build_sdf_head(C[\"SDF_HEAD_HIDDEN\"])\n",
    "obj.build_keypoint_head(\"grasp\", C[\"GRASP_HEAD_HIDDEN\"], C[\"GRIPPER_POINTS\"])\n",
    "obj.build_keypoint_head(\"hang\", C[\"HANG_HEAD_HIDDEN\"], C[\"HOOK_POINTS\"])\n",
    "obj.load_state_dict(state[\"network\"])\n",
    "obj.to(device).eval()\n",
    "F_sdf = SDF_Feature(obj)"
   ]
  },
  {
   "cell_type": "markdown",
   "id": "84ca30b7-84f2-41f7-a2f7-0134fcc1ee11",
   "metadata": {},
   "source": [
    "# Visualize SDF"
   ]
  },
  {
   "cell_type": "code",
   "execution_count": null,
   "id": "3a95a491",
   "metadata": {},
   "outputs": [],
   "source": [
    "dataset = testset\n",
    "dataset = trainset\n",
    "\n",
    "num_grid = 50\n",
    "lim = 0.15\n",
    "dx = torch.linspace(-lim, lim, num_grid, device=device)\n",
    "grid_x, grid_y = torch.meshgrid(dx, dx)\n",
    "grid_x = grid_x.flatten()\n",
    "grid_y = grid_y.flatten()\n",
    "\n",
    "for ind in [0]:\n",
    "    print(\"============================= \" + str(ind) + \" ==============================\")\n",
    "    dataset.show_data(ind, image_only=True)\n",
    "    data = to_device(dataset[ind], device)\n",
    "    rgb, projections = warper(data[\"rgb\"].unsqueeze(0), data[\"cam_extrinsic\"].unsqueeze(0), data[\"cam_intrinsic\"].unsqueeze(0))\n",
    "    obj.backbone.encode(rgb, projections)\n",
    "\n",
    "    with torch.no_grad():\n",
    "        pos = torch.stack([grid_x * 0, grid_x, grid_y], axis=1)\n",
    "        sdf_pred = -F_sdf(pos.unsqueeze(0)).cpu()\n",
    "        sdf_pred /= C[\"SDF_SCALE\"]\n",
    "    #         sdf_pred += .005\n",
    "\n",
    "    plt.figure(figsize=(15, 5))\n",
    "    color = sdf_pred.sign() * sdf_pred.abs().pow(0.2)\n",
    "    plt.scatter(grid_x.cpu(), grid_y.cpu(), c=color)\n",
    "    plt.colorbar()\n",
    "    plt.grid()\n",
    "    plt.axis([-lim, lim, -lim, lim])\n",
    "    plt.axis(\"square\")\n",
    "\n",
    "    plt.show()"
   ]
  },
  {
   "cell_type": "markdown",
   "id": "8ac2d7dd-707a-4922-b549-e8a94907a2f2",
   "metadata": {},
   "source": [
    "# Mesh reconstruction via marching cube"
   ]
  },
  {
   "cell_type": "code",
   "execution_count": null,
   "id": "658a0f32",
   "metadata": {
    "tags": []
   },
   "outputs": [],
   "source": [
    "dataset = trainset\n",
    "# dataset = testset\n",
    "draw_mesh = False\n",
    "mesh_list, true_mesh_list = [], []\n",
    "T = torch.eye(4)\n",
    "for j, ind in enumerate(range(0, 9)):\n",
    "    data = to_device(dataset[ind], device)\n",
    "    rgb, projections = warper(data[\"rgb\"].unsqueeze(0), data[\"cam_extrinsic\"].unsqueeze(0), data[\"cam_intrinsic\"].unsqueeze(0))\n",
    "\n",
    "    vertices, faces, normals = obj.extract_mesh(rgb, projections, scale=0.2, delta=0.00, sdf_scale=C[\"SDF_SCALE\"], draw=draw_mesh)\n",
    "    if not draw_mesh:\n",
    "        render_images = rgb.squeeze(0).cpu()\n",
    "        num_views = render_images.shape[0]\n",
    "        fig = plt.figure()\n",
    "        for i in range(num_views):\n",
    "            ax = plt.subplot(1, num_views, i + 1)\n",
    "            ax.imshow(render_images[i, ...].permute(1, 2, 0))\n",
    "        plt.tight_layout()\n",
    "        plt.show()\n",
    "        T[0, 3] = 0.4 * (j // 3)\n",
    "        T[1, 3] = 0.4 * (j % 3)\n",
    "        T[2, 3] = 0.0\n",
    "        mesh = trimesh.Trimesh(vertices=vertices, faces=faces).apply_transform(T)\n",
    "        print(mesh.is_watertight)\n",
    "        mesh.visual.vertex_colors = [0.5, 0.5, 1.0]\n",
    "        mesh_list.append(mesh)\n",
    "\n",
    "        T[2, 3] = 0.3\n",
    "        true_mesh = trimesh.load(\"data/meshes_coll/\" + data[\"filenames\"].decode()).apply_transform(T)\n",
    "        true_mesh.visual.vertex_colors = [1.0, 0.5, 0.5]\n",
    "        true_mesh_list.append(true_mesh)\n",
    "\n",
    "trimesh.Scene(mesh_list + true_mesh_list).show()"
   ]
  }
 ],
 "metadata": {
  "kernelspec": {
   "display_name": "deep-visual-constraints",
   "language": "python",
   "name": "python3"
  },
  "language_info": {
   "codemirror_mode": {
    "name": "ipython",
    "version": 3
   },
   "file_extension": ".py",
   "mimetype": "text/x-python",
   "name": "python",
   "nbconvert_exporter": "python",
   "pygments_lexer": "ipython3",
   "version": "3.11.13"
  }
 },
 "nbformat": 4,
 "nbformat_minor": 5
}
